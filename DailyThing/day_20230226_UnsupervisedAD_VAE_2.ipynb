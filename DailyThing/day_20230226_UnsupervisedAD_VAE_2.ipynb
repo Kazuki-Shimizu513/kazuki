{
  "cells": [
    {
      "cell_type": "code",
      "source": [
        "! cat /etc/os-release # OS version\n",
        "! lsb_release -a # OS version\n",
        "! uname -r # Linux kernel version\n",
        "! nvcc --version # CUDA version\n",
        "! python --version #python version"
      ],
      "metadata": {
        "colab": {
          "base_uri": "https://localhost:8080/"
        },
        "id": "cKDYx9s18CuG",
        "outputId": "67f73fd3-3abe-4040-f0c7-03cd49a5a947"
      },
      "execution_count": 1,
      "outputs": [
        {
          "output_type": "stream",
          "name": "stdout",
          "text": [
            "NAME=\"Ubuntu\"\n",
            "VERSION=\"20.04.5 LTS (Focal Fossa)\"\n",
            "ID=ubuntu\n",
            "ID_LIKE=debian\n",
            "PRETTY_NAME=\"Ubuntu 20.04.5 LTS\"\n",
            "VERSION_ID=\"20.04\"\n",
            "HOME_URL=\"https://www.ubuntu.com/\"\n",
            "SUPPORT_URL=\"https://help.ubuntu.com/\"\n",
            "BUG_REPORT_URL=\"https://bugs.launchpad.net/ubuntu/\"\n",
            "PRIVACY_POLICY_URL=\"https://www.ubuntu.com/legal/terms-and-policies/privacy-policy\"\n",
            "VERSION_CODENAME=focal\n",
            "UBUNTU_CODENAME=focal\n",
            "No LSB modules are available.\n",
            "Distributor ID:\tUbuntu\n",
            "Description:\tUbuntu 20.04.5 LTS\n",
            "Release:\t20.04\n",
            "Codename:\tfocal\n",
            "5.10.147+\n",
            "nvcc: NVIDIA (R) Cuda compiler driver\n",
            "Copyright (c) 2005-2022 NVIDIA Corporation\n",
            "Built on Wed_Sep_21_10:33:58_PDT_2022\n",
            "Cuda compilation tools, release 11.8, V11.8.89\n",
            "Build cuda_11.8.r11.8/compiler.31833905_0\n",
            "Python 3.8.10\n"
          ]
        }
      ]
    },
    {
      "cell_type": "code",
      "execution_count": 2,
      "metadata": {
        "colab": {
          "base_uri": "https://localhost:8080/"
        },
        "id": "uFfAVZU65Pd9",
        "outputId": "5ee1e7be-5662-4a96-8998-43202b538863"
      },
      "outputs": [
        {
          "output_type": "stream",
          "name": "stdout",
          "text": [
            "Reading package lists... Done\n",
            "Building dependency tree       \n",
            "Reading state information... Done\n",
            "imagemagick is already the newest version (8:6.9.10.23+dfsg-2.1ubuntu11.4).\n",
            "0 upgraded, 0 newly installed, 0 to remove and 19 not upgraded.\n",
            "Looking in indexes: https://pypi.org/simple, https://us-python.pkg.dev/colab-wheels/public/simple/\n",
            "Requirement already satisfied: tqdm in /usr/local/lib/python3.8/dist-packages (4.64.1)\n",
            "Looking in indexes: https://pypi.org/simple, https://us-python.pkg.dev/colab-wheels/public/simple/\n",
            "Requirement already satisfied: japanize-matplotlib in /usr/local/lib/python3.8/dist-packages (1.1.3)\n",
            "Requirement already satisfied: matplotlib in /usr/local/lib/python3.8/dist-packages (from japanize-matplotlib) (3.5.3)\n",
            "Requirement already satisfied: cycler>=0.10 in /usr/local/lib/python3.8/dist-packages (from matplotlib->japanize-matplotlib) (0.11.0)\n",
            "Requirement already satisfied: packaging>=20.0 in /usr/local/lib/python3.8/dist-packages (from matplotlib->japanize-matplotlib) (23.0)\n",
            "Requirement already satisfied: kiwisolver>=1.0.1 in /usr/local/lib/python3.8/dist-packages (from matplotlib->japanize-matplotlib) (1.4.4)\n",
            "Requirement already satisfied: python-dateutil>=2.7 in /usr/local/lib/python3.8/dist-packages (from matplotlib->japanize-matplotlib) (2.8.2)\n",
            "Requirement already satisfied: fonttools>=4.22.0 in /usr/local/lib/python3.8/dist-packages (from matplotlib->japanize-matplotlib) (4.38.0)\n",
            "Requirement already satisfied: pillow>=6.2.0 in /usr/local/lib/python3.8/dist-packages (from matplotlib->japanize-matplotlib) (7.1.2)\n",
            "Requirement already satisfied: pyparsing>=2.2.1 in /usr/local/lib/python3.8/dist-packages (from matplotlib->japanize-matplotlib) (3.0.9)\n",
            "Requirement already satisfied: numpy>=1.17 in /usr/local/lib/python3.8/dist-packages (from matplotlib->japanize-matplotlib) (1.22.4)\n",
            "Requirement already satisfied: six>=1.5 in /usr/local/lib/python3.8/dist-packages (from python-dateutil>=2.7->matplotlib->japanize-matplotlib) (1.15.0)\n",
            "Looking in indexes: https://pypi.org/simple, https://us-python.pkg.dev/colab-wheels/public/simple/\n",
            "Requirement already satisfied: plotly==5.13.1 in /usr/local/lib/python3.8/dist-packages (5.13.1)\n",
            "Requirement already satisfied: tenacity>=6.2.0 in /usr/local/lib/python3.8/dist-packages (from plotly==5.13.1) (8.2.1)\n",
            "Looking in indexes: https://pypi.org/simple, https://us-python.pkg.dev/colab-wheels/public/simple/\n",
            "Requirement already satisfied: pytorch-lightning in /usr/local/lib/python3.8/dist-packages (1.9.3)\n",
            "Requirement already satisfied: tqdm>=4.57.0 in /usr/local/lib/python3.8/dist-packages (from pytorch-lightning) (4.64.1)\n",
            "Requirement already satisfied: torchmetrics>=0.7.0 in /usr/local/lib/python3.8/dist-packages (from pytorch-lightning) (0.11.1)\n",
            "Requirement already satisfied: packaging>=17.1 in /usr/local/lib/python3.8/dist-packages (from pytorch-lightning) (23.0)\n",
            "Requirement already satisfied: numpy>=1.17.2 in /usr/local/lib/python3.8/dist-packages (from pytorch-lightning) (1.22.4)\n",
            "Requirement already satisfied: torch>=1.10.0 in /usr/local/lib/python3.8/dist-packages (from pytorch-lightning) (1.13.1+cu116)\n",
            "Requirement already satisfied: typing-extensions>=4.0.0 in /usr/local/lib/python3.8/dist-packages (from pytorch-lightning) (4.5.0)\n",
            "Requirement already satisfied: lightning-utilities>=0.6.0.post0 in /usr/local/lib/python3.8/dist-packages (from pytorch-lightning) (0.7.1)\n",
            "Requirement already satisfied: PyYAML>=5.4 in /usr/local/lib/python3.8/dist-packages (from pytorch-lightning) (6.0)\n",
            "Requirement already satisfied: fsspec[http]>2021.06.0 in /usr/local/lib/python3.8/dist-packages (from pytorch-lightning) (2023.1.0)\n",
            "Requirement already satisfied: requests in /usr/local/lib/python3.8/dist-packages (from fsspec[http]>2021.06.0->pytorch-lightning) (2.25.1)\n",
            "Requirement already satisfied: aiohttp!=4.0.0a0,!=4.0.0a1 in /usr/local/lib/python3.8/dist-packages (from fsspec[http]>2021.06.0->pytorch-lightning) (3.8.4)\n",
            "Requirement already satisfied: charset-normalizer<4.0,>=2.0 in /usr/local/lib/python3.8/dist-packages (from aiohttp!=4.0.0a0,!=4.0.0a1->fsspec[http]>2021.06.0->pytorch-lightning) (3.0.1)\n",
            "Requirement already satisfied: frozenlist>=1.1.1 in /usr/local/lib/python3.8/dist-packages (from aiohttp!=4.0.0a0,!=4.0.0a1->fsspec[http]>2021.06.0->pytorch-lightning) (1.3.3)\n",
            "Requirement already satisfied: async-timeout<5.0,>=4.0.0a3 in /usr/local/lib/python3.8/dist-packages (from aiohttp!=4.0.0a0,!=4.0.0a1->fsspec[http]>2021.06.0->pytorch-lightning) (4.0.2)\n",
            "Requirement already satisfied: yarl<2.0,>=1.0 in /usr/local/lib/python3.8/dist-packages (from aiohttp!=4.0.0a0,!=4.0.0a1->fsspec[http]>2021.06.0->pytorch-lightning) (1.8.2)\n",
            "Requirement already satisfied: attrs>=17.3.0 in /usr/local/lib/python3.8/dist-packages (from aiohttp!=4.0.0a0,!=4.0.0a1->fsspec[http]>2021.06.0->pytorch-lightning) (22.2.0)\n",
            "Requirement already satisfied: aiosignal>=1.1.2 in /usr/local/lib/python3.8/dist-packages (from aiohttp!=4.0.0a0,!=4.0.0a1->fsspec[http]>2021.06.0->pytorch-lightning) (1.3.1)\n",
            "Requirement already satisfied: multidict<7.0,>=4.5 in /usr/local/lib/python3.8/dist-packages (from aiohttp!=4.0.0a0,!=4.0.0a1->fsspec[http]>2021.06.0->pytorch-lightning) (6.0.4)\n",
            "Requirement already satisfied: urllib3<1.27,>=1.21.1 in /usr/local/lib/python3.8/dist-packages (from requests->fsspec[http]>2021.06.0->pytorch-lightning) (1.24.3)\n",
            "Requirement already satisfied: chardet<5,>=3.0.2 in /usr/local/lib/python3.8/dist-packages (from requests->fsspec[http]>2021.06.0->pytorch-lightning) (4.0.0)\n",
            "Requirement already satisfied: certifi>=2017.4.17 in /usr/local/lib/python3.8/dist-packages (from requests->fsspec[http]>2021.06.0->pytorch-lightning) (2022.12.7)\n",
            "Requirement already satisfied: idna<3,>=2.5 in /usr/local/lib/python3.8/dist-packages (from requests->fsspec[http]>2021.06.0->pytorch-lightning) (2.10)\n"
          ]
        }
      ],
      "source": [
        "#追加　パッケージのインストーる\n",
        "\n",
        "!apt install imagemagick # gif作成に必要\n",
        "\n",
        "# ! pip install flake8\n",
        "# ! pip install black\n",
        "# ! pip install isort\n",
        "# ! pip install mypy\n",
        "! pip install tqdm\n",
        "! pip install japanize-matplotlib\n",
        "! pip install plotly==5.13.1\n",
        "! pip install pytorch-lightning  "
      ]
    },
    {
      "cell_type": "code",
      "execution_count": 3,
      "metadata": {
        "id": "9ynj9Rsw5CsI"
      },
      "outputs": [],
      "source": [
        "import random\n",
        "import os\n",
        "import math\n",
        "from pathlib import Path\n",
        "\n",
        "import torch\n",
        "import torch.nn as nn\n",
        "import torch.nn.functional as F\n",
        "from torch.utils.data import DataLoader\n",
        "from torch import optim\n",
        "\n",
        "import torchvision\n",
        "import torchvision.transforms as transforms\n",
        "\n",
        "from torchvision.datasets import MNIST, FashionMNIST\n",
        "\n",
        "import pytorch_lightning as pl\n",
        "\n",
        "import numpy as np\n",
        "import pandas as pd\n",
        "\n",
        "import matplotlib.pyplot as plt\n",
        "import japanize_matplotlib\n",
        "import matplotlib.animation as animation\n",
        "from matplotlib import animation, rc\n",
        "\n",
        "\n",
        "import plotly.express as px\n",
        "\n",
        "from tqdm import tqdm"
      ]
    },
    {
      "cell_type": "code",
      "execution_count": 4,
      "metadata": {
        "id": "9bcWMQBm5NTm"
      },
      "outputs": [],
      "source": [
        "cmap_keyword = \"tab10\"\n",
        "cmap = plt.get_cmap(cmap_keyword)"
      ]
    },
    {
      "cell_type": "code",
      "source": [
        "\n",
        "def torch_fix_seed(seed=42):\n",
        "    # Python random\n",
        "    random.seed(seed)\n",
        "    # Numpy\n",
        "    np.random.seed(seed)\n",
        "    # Pytorch\n",
        "    torch.manual_seed(seed)\n",
        "    torch.cuda.manual_seed(seed)\n",
        "    torch.backends.cudnn.deterministic = True\n",
        "    torch.use_deterministic_algorithms = True\n",
        "\n",
        "SEED=42\n",
        "torch_fix_seed(SEED)"
      ],
      "metadata": {
        "id": "yyU9JJqQ8mxn"
      },
      "execution_count": 5,
      "outputs": []
    },
    {
      "cell_type": "code",
      "execution_count": 6,
      "metadata": {
        "colab": {
          "base_uri": "https://localhost:8080/"
        },
        "id": "ADd-Z6S75Pbf",
        "outputId": "f88df87f-fede-4378-80d0-a94271fa607f"
      },
      "outputs": [
        {
          "output_type": "stream",
          "name": "stdout",
          "text": [
            "['T-shirt/top', 'Trouser', 'Pullover', 'Dress', 'Coat', 'Sandal', 'Shirt', 'Sneaker', 'Bag', 'Ankle boot']\n",
            "original trainval data size:  60000\n",
            "anomaly data size:  6000\n",
            "trainval data size:  6000\n",
            "test data size:  0\n",
            "trainval data size:  6000\n",
            "train data size:  4800\n",
            "train iteration number:  24\n",
            "val data size:  1200\n",
            "val iteration number:  6\n"
          ]
        }
      ],
      "source": [
        "BATCH_SIZE = 200\n",
        "\n",
        "one_class = 'T-shirt/top',\n",
        "anomaly_class = 'Trouser'\n",
        "\n",
        "\n",
        "trainval_data = FashionMNIST(\"./data\", \n",
        "                   train=True, \n",
        "                   download=True, \n",
        "                   transform=transforms.ToTensor())\n",
        "calss_list = FashionMNIST.classes\n",
        "print(calss_list)\n",
        "\n",
        "\n",
        "one_class = 0\n",
        "anomaly_class = 1\n",
        "\n",
        "# trainval_data = MNIST(\"./data\", \n",
        "#                    train=True, \n",
        "#                    download=True, \n",
        "#                    transform=transforms.ToTensor())\n",
        "\n",
        "# print(trainval_data)\n",
        "# print(type(trainval_data))\n",
        "# print(trainval_data[0][0])\n",
        "# print(trainval_data[0][1])\n",
        "\n",
        "print(\"original trainval data size: \",len(trainval_data))\n",
        "\n",
        "anomaly_data = [x for x in trainval_data if x[1]==anomaly_class]\n",
        "print(\"anomaly data size: \",len(anomaly_data))\n",
        "\n",
        "trainval_data = [x for x in trainval_data if x[1]==one_class]\n",
        "print(\"trainval data size: \",len(trainval_data))\n",
        "\n",
        "\n",
        "\n",
        "\n",
        "train_size = int(len(trainval_data) * 0.8)\n",
        "val_size = int(len(trainval_data) * 0.2)\n",
        "\n",
        "test_data = trainval_data[train_size+val_size:]\n",
        "print(\"test data size: \",len(test_data))\n",
        "trainval_data = trainval_data[:train_size+val_size]\n",
        "print(\"trainval data size: \",len(trainval_data))\n",
        "\n",
        "\n",
        "train_data, val_data = torch.utils.data.random_split(trainval_data, [train_size, val_size])\n",
        "\n",
        "train_loader = DataLoader(dataset=train_data,\n",
        "                          batch_size=BATCH_SIZE,\n",
        "                          shuffle=True,\n",
        "                          num_workers=0)\n",
        "\n",
        "val_loader = DataLoader(dataset=val_data,\n",
        "                        batch_size=BATCH_SIZE,\n",
        "                        shuffle=True,\n",
        "                        num_workers=0)\n",
        "\n",
        "anomaly_loader = DataLoader(dataset=anomaly_data,\n",
        "                        batch_size=BATCH_SIZE,\n",
        "                        shuffle=True,\n",
        "                        num_workers=0)\n",
        "\n",
        "print(\"train data size: \",len(train_data))\n",
        "print(\"train iteration number: \",len(train_data)//BATCH_SIZE)\n",
        "print(\"val data size: \",len(val_data))\n",
        "print(\"val iteration number: \",len(val_data)//BATCH_SIZE)\n",
        "\n",
        "\n",
        "\n"
      ]
    },
    {
      "cell_type": "code",
      "source": [
        "images, labels = next(iter(train_loader))\n",
        "print(\"images_size:\",images.size())\n",
        "print(\"label:\",labels[:10])\n",
        "\n",
        "image_numpy = images.detach().numpy().copy()\n",
        "plt.imshow(image_numpy[0,0,:,:], cmap='gray')"
      ],
      "metadata": {
        "colab": {
          "base_uri": "https://localhost:8080/",
          "height": 317
        },
        "id": "ile4YXhsA1dN",
        "outputId": "e442ca5f-b4b9-41ac-bf43-8cc820e684d3"
      },
      "execution_count": 7,
      "outputs": [
        {
          "output_type": "stream",
          "name": "stdout",
          "text": [
            "images_size: torch.Size([200, 1, 28, 28])\n",
            "label: tensor([0, 0, 0, 0, 0, 0, 0, 0, 0, 0])\n"
          ]
        },
        {
          "output_type": "execute_result",
          "data": {
            "text/plain": [
              "<matplotlib.image.AxesImage at 0x7f76e9b3d970>"
            ]
          },
          "metadata": {},
          "execution_count": 7
        },
        {
          "output_type": "display_data",
          "data": {
            "text/plain": [
              "<Figure size 432x288 with 1 Axes>"
            ],
            "image/png": "[encoded data removed]"
          },
          "metadata": {
            "needs_background": "light"
          }
        }
      ]
    },
    {
      "cell_type": "code",
      "source": [
        "images, labels = next(iter(anomaly_loader))\n",
        "print(\"images_size:\",images.size())\n",
        "print(\"label:\",labels[:10])\n",
        "\n",
        "image_numpy = images.detach().numpy().copy()\n",
        "plt.imshow(image_numpy[0,0,:,:], cmap='gray')"
      ],
      "metadata": {
        "colab": {
          "base_uri": "https://localhost:8080/",
          "height": 317
        },
        "id": "PMcg5C2trFrF",
        "outputId": "8824da98-acac-4a82-a2f4-a5f37da0eb32"
      },
      "execution_count": 8,
      "outputs": [
        {
          "output_type": "stream",
          "name": "stdout",
          "text": [
            "images_size: torch.Size([200, 1, 28, 28])\n",
            "label: tensor([1, 1, 1, 1, 1, 1, 1, 1, 1, 1])\n"
          ]
        },
        {
          "output_type": "execute_result",
          "data": {
            "text/plain": [
              "<matplotlib.image.AxesImage at 0x7f76e7227df0>"
            ]
          },
          "metadata": {},
          "execution_count": 8
        },
        {
          "output_type": "display_data",
          "data": {
            "text/plain": [
              "<Figure size 432x288 with 1 Axes>"
            ],
            "image/png": "[encoded data removed]"
          },
          "metadata": {
            "needs_background": "light"
          }
        }
      ]
    },
    {
      "cell_type": "code",
      "source": [],
      "metadata": {
        "id": "PBXyuGhrU-LD"
      },
      "execution_count": 8,
      "outputs": []
    },
    {
      "cell_type": "code",
      "execution_count": 9,
      "metadata": {
        "id": "Jq7m5hCR5PZJ"
      },
      "outputs": [],
      "source": [
        "###########全結合型NNベースのVAE (MNIST)###################\n",
        "class VAEEncoder(nn.Module):\n",
        "  def __init__(self, z_dim):\n",
        "    super().__init__()\n",
        "    self.lr = nn.Linear(28*28, 300)\n",
        "    self.lr2 = nn.Linear(300, 100)\n",
        "    self.lr_ave = nn.Linear(100, z_dim) #mean\n",
        "    self.lr_dev = nn.Linear(100, z_dim) #log(sigma^2)\n",
        "    self.relu = nn.ReLU()\n",
        "  \n",
        "  def forward(self, x):\n",
        "    x = self.lr(x)\n",
        "    x = self.relu(x)\n",
        "    x = self.lr2(x)\n",
        "    x = self.relu(x)\n",
        "    ave = self.lr_ave(x) #mean\n",
        "    log_dev = self.lr_dev(x) #log(sigma^2)\n",
        "\n",
        "    ep = torch.randn_like(ave)\n",
        "    z = ave + torch.exp(log_dev / 2) * ep\n",
        "    return z, ave, log_dev\n",
        "\n",
        "class VAEDecoder(nn.Module):\n",
        "  def __init__(self, z_dim):\n",
        "    super().__init__()\n",
        "    self.lr = nn.Linear(z_dim, 100)\n",
        "    self.lr2 = nn.Linear(100, 300)\n",
        "    self.lr3 = nn.Linear(300, 28*28)\n",
        "    self.relu = nn.ReLU()\n",
        "  \n",
        "  def forward(self, z):\n",
        "    x = self.lr(z)\n",
        "    x = self.relu(x)\n",
        "    x = self.lr2(x)\n",
        "    x = self.relu(x)\n",
        "    x = self.lr3(x)\n",
        "    x = torch.sigmoid(x)\n",
        "    return x\n",
        "\n",
        "class VAE(nn.Module):\n",
        "  def __init__(self, z_dim):\n",
        "    super().__init__()\n",
        "    self.encoder = VAEEncoder(z_dim)\n",
        "    self.decoder = VAEDecoder(z_dim)\n",
        "  \n",
        "  def forward(self, x):\n",
        "    z, ave, log_dev = self.encoder(x)\n",
        "    x = self.decoder(z)\n",
        "    return x, z, ave, log_dev\n",
        "\n",
        "def criterion(predict, target, ave, log_dev):\n",
        "  recon_loss = F.binary_cross_entropy(predict, target, reduction='mean')\n",
        "  kl_loss = -0.5 * torch.sum(1 + log_dev - ave**2 - log_dev.exp())\n",
        "  loss = recon_loss + kl_loss\n",
        "  return loss ,recon_loss , kl_loss"
      ]
    },
    {
      "cell_type": "code",
      "execution_count": 9,
      "metadata": {
        "id": "Xh27BWHK5PWk"
      },
      "outputs": [],
      "source": []
    },
    {
      "cell_type": "code",
      "execution_count": 10,
      "metadata": {
        "id": "X36lEoCjkLON"
      },
      "outputs": [],
      "source": [
        "#########VAEではなく通常のオートエンコーダ###########\n",
        "\n",
        "####VAEとAEの違いはガウス分布を仮定しているかどうかで####\n",
        "####特定の分布を仮定することでKLdivを計算できる(正則化項)####\n",
        "class AEEncoder(nn.Module):\n",
        "  def __init__(self, z_dim):\n",
        "    super().__init__()\n",
        "    self.lr = nn.Linear(28*28, 300)\n",
        "    self.lr2 = nn.Linear(300, 100)\n",
        "    self.lr3 = nn.Linear(100, z_dim) #mean\n",
        "    self.relu = nn.ReLU()\n",
        "  \n",
        "  def forward(self, x):\n",
        "    x = self.lr(x)\n",
        "    x = self.relu(x)\n",
        "    x = self.lr2(x)\n",
        "    x = self.relu(x)\n",
        "    x = self.lr3(x)\n",
        "    return x\n",
        "\n",
        "class AEDecoder(nn.Module):\n",
        "  def __init__(self, z_dim):\n",
        "    super().__init__()\n",
        "    self.lr = nn.Linear(z_dim, 100)\n",
        "    self.lr2 = nn.Linear(100, 300)\n",
        "    self.lr3 = nn.Linear(300, 28*28)\n",
        "    self.relu = nn.ReLU()\n",
        "  \n",
        "  def forward(self, z):\n",
        "    x = self.lr(z)\n",
        "    x = self.relu(x)\n",
        "    x = self.lr2(x)\n",
        "    x = self.relu(x)\n",
        "    x = self.lr3(x)\n",
        "    x = torch.sigmoid(x)\n",
        "    return x\n",
        "\n",
        "class AE(nn.Module):\n",
        "  def __init__(self, z_dim):\n",
        "    super().__init__()\n",
        "    self.encoder = AEEncoder(z_dim)\n",
        "    self.decoder = AEDecoder(z_dim)\n",
        "  \n",
        "  def forward(self, x):\n",
        "    z = self.encoder(x)\n",
        "    x = self.decoder(z)\n",
        "    return x, z\n",
        "\n",
        "def criterion_ae(predict, target):\n",
        "  loss = F.binary_cross_entropy(predict, target, reduction='mean')\n",
        "  return loss\n",
        "\n",
        "# model = AE(z_dim).to(device)\n",
        "# loss = criterion_ae(output, input)"
      ]
    },
    {
      "cell_type": "code",
      "execution_count": 11,
      "metadata": {
        "id": "kgYRcgBebShv"
      },
      "outputs": [],
      "source": [
        "###########畳み込み型NNベースのVAE (MNIST)###################\n",
        "class ConvEncoder(nn.Module):\n",
        "  def __init__(self, z_dim, drop_rate = 0.1):\n",
        "    super().__init__()\n",
        "    self.conv1 = nn.Conv2d(1, 32, kernel_size=2, padding=\"same\")\n",
        "    self.conv2 = nn.Conv2d(32, 32, kernel_size=2, padding=\"same\")\n",
        "    self.conv3 = nn.Conv2d(32, 32, kernel_size=2, padding=\"same\")\n",
        "    self.lr1 = nn.Linear(32*3*3, 100)\n",
        "    self.lr_ave = nn.Linear(100, z_dim) #mean\n",
        "    self.lr_dev = nn.Linear(100, z_dim) #log(sigma^2)\n",
        "    self.bn = nn.BatchNorm2d(32)\n",
        "    self.relu = nn.ReLU()\n",
        "    self.maxpool_2D = nn.AvgPool2d(2, stride = 2)\n",
        "    self.dropout = nn.Dropout(p=drop_rate)\n",
        "  \n",
        "  def forward(self, x):\n",
        "    x = self.conv1(x)\n",
        "    x = self.bn(x)\n",
        "    x = self.relu(x)\n",
        "    x = self.maxpool_2D(x)\n",
        "    x = self.conv2(x)\n",
        "    x = self.bn(x)\n",
        "    x = self.relu(x)\n",
        "    x = self.maxpool_2D(x)\n",
        "    x = self.conv3(x)\n",
        "    x = self.bn(x)\n",
        "    x = self.relu(x)\n",
        "    x = self.maxpool_2D(x)\n",
        "\n",
        "    x = x.view(-1, 32*3*3)\n",
        "    x = self.lr1(x)\n",
        "    x = self.relu(x)\n",
        "    ave = self.lr_ave(x) #mean\n",
        "    log_dev = self.lr_dev(x) #log(sigma^2)\n",
        "\n",
        "    ep = torch.randn_like(ave)\n",
        "    z = ave + torch.exp(log_dev / 2) * ep\n",
        "    return z, ave, log_dev\n",
        "\n",
        "class ConvDecoder(nn.Module):\n",
        "  def __init__(self, z_dim, drop_rate = 0.1):\n",
        "    super().__init__()\n",
        "    self.lr1 = nn.Linear(z_dim, 8*3*3)\n",
        "    self.relu = nn.ReLU()\n",
        "    self.uc1 = nn.ConvTranspose2d(8, 32, kernel_size =2, stride = 2, output_padding = 1)\n",
        "    self.uc2 = nn.ConvTranspose2d(32, 32, kernel_size =2, stride = 2)\n",
        "    self.conv1 = nn.Conv2d(32, 32, kernel_size=3, padding=\"same\")\n",
        "    self.bn = nn.BatchNorm2d(32)\n",
        "    self.conv2 = nn.Conv2d(32, 1, kernel_size = 1)\n",
        "    self.dropout = nn.Dropout(p=drop_rate)\n",
        "  \n",
        "  def forward(self, x):\n",
        "    x = self.lr1(x)\n",
        "    x = self.relu(x)\n",
        "    x = x.view(-1, 8, 3, 3)\n",
        "    x = self.uc1(x)\n",
        "    x = self.conv1(x)\n",
        "    x = self.bn(x)\n",
        "    x = self.relu(x)\n",
        "    x = self.uc2(x)\n",
        "    x = self.conv1(x)\n",
        "    x = self.bn(x)\n",
        "    x = self.relu(x)\n",
        "    x = self.uc2(x)\n",
        "    x = self.conv1(x)\n",
        "    x = self.bn(x)\n",
        "    x = self.relu(x)\n",
        "    x = self.conv1(x)\n",
        "    x = self.bn(x)\n",
        "    x = self.relu(x)\n",
        "    x = self.conv1(x)\n",
        "    x = self.bn(x)\n",
        "    x = self.relu(x)\n",
        "    x = self.conv2(x)\n",
        "    x = torch.sigmoid(x)    \n",
        "    return x\n",
        "\n",
        "class ConvVAE(nn.Module):\n",
        "  def __init__(self, z_dim):\n",
        "    super().__init__()\n",
        "    self.encoder = ConvEncoder(z_dim)\n",
        "    self.decoder = ConvDecoder(z_dim)\n",
        "  \n",
        "  def forward(self, x):\n",
        "    z, ave, log_dev = self.encoder(x)\n",
        "    x = self.decoder(z)\n",
        "    return x, z, ave, log_dev\n",
        "\n",
        "def criterion(predict, target, ave, log_dev):\n",
        "  recon_loss = F.binary_cross_entropy(predict, target, reduction='mean')\n",
        "  kl_loss = -0.5 * torch.sum(1 + log_dev - ave**2 - log_dev.exp())\n",
        "  loss = recon_loss + kl_loss\n",
        "  return loss ,recon_loss , kl_loss\n",
        "\n",
        "# model = ConvVAE(z_dim).to(device)\n",
        "# loss = criterion(output, input, ave, log_dev) #VAE用と同じ"
      ]
    },
    {
      "cell_type": "code",
      "execution_count": 12,
      "metadata": {
        "id": "apc8XfbF5PUD",
        "colab": {
          "base_uri": "https://localhost:8080/"
        },
        "outputId": "9b9ddc32-c02e-4d6d-e583-d2fbfe74c2de"
      },
      "outputs": [
        {
          "output_type": "stream",
          "name": "stdout",
          "text": [
            "AE(\n",
            "  (encoder): AEEncoder(\n",
            "    (lr): Linear(in_features=784, out_features=300, bias=True)\n",
            "    (lr2): Linear(in_features=300, out_features=100, bias=True)\n",
            "    (lr3): Linear(in_features=100, out_features=2, bias=True)\n",
            "    (relu): ReLU()\n",
            "  )\n",
            "  (decoder): AEDecoder(\n",
            "    (lr): Linear(in_features=2, out_features=100, bias=True)\n",
            "    (lr2): Linear(in_features=100, out_features=300, bias=True)\n",
            "    (lr3): Linear(in_features=300, out_features=784, bias=True)\n",
            "    (relu): ReLU()\n",
            "  )\n",
            ")\n"
          ]
        }
      ],
      "source": [
        "z_dim = 2\n",
        "num_epochs = 100\n",
        "\n",
        "device = torch.device(\"cuda:0\" if torch.cuda.is_available() else \"cpu\") \n",
        "# model = VAE(z_dim).to(device)\n",
        "model = AE(z_dim).to(device)\n",
        "# model = ConvVAE(z_dim).to(device)\n",
        "print(model)\n",
        "optimizer = torch.optim.Adam(model.parameters(), lr=0.001)"
      ]
    },
    {
      "cell_type": "code",
      "source": [
        "# for i, (x, labels) in enumerate(train_loader):\n",
        "#     input = x.to(device).to(torch.float32)\n",
        "#     output, z, ave, log_dev = model(input)\n",
        "\n",
        "#     history[\"ave\"].append(ave)\n",
        "#     history[\"log_dev\"].append(log_dev)\n",
        "#     history[\"z\"].append(z)\n",
        "#     history[\"labels\"].append(labels)\n",
        "#     loss = criterion(output, input, ave, log_dev)\n",
        "     \n",
        "#     optimizer.zero_grad()\n",
        "#     loss.backward()\n",
        "#     optimizer.step()\n",
        "     \n",
        "#     if (i+1) % 50 == 0:\n",
        "#       print(f'Epoch: {epoch+1}, loss: {loss: 0.4f}')\n",
        "#     history[\"train_loss\"].append(loss)\n"
      ],
      "metadata": {
        "id": "3VA7a79OEsAC"
      },
      "execution_count": 13,
      "outputs": []
    },
    {
      "cell_type": "code",
      "execution_count": 14,
      "metadata": {
        "colab": {
          "base_uri": "https://localhost:8080/"
        },
        "id": "WnOaqiUd5PRu",
        "outputId": "a93d2a5d-5ff6-4c6d-e612-d524e0952345"
      },
      "outputs": [
        {
          "output_type": "stream",
          "name": "stderr",
          "text": [
            "100%|██████████| 100/100 [00:18<00:00,  5.29it/s]\n"
          ]
        }
      ],
      "source": [
        "history = {\"train_loss\": [], \n",
        "           \"val_input\":[], \"val_output\": [], \"val_loss\": [], \"val_recon_loss\":[], \"val_ave\": [], \"val_log_dev\": [], \"val_z\": [], \"val_labels\":[],\n",
        "           \"anom_input\": [],\"anom_output\":[] ,\"anom_loss\": [], \"anom_recon_loss\":[],\"anom_ave\": [], \"anom_log_dev\": [], \"anom_z\": [], \"anom_labels\":[],\n",
        "            }\n",
        "\n",
        "scheduler = torch.optim.lr_scheduler.MultiStepLR(optimizer, milestones=[15], gamma=0.1)\n",
        "\n",
        "for epoch in tqdm(range(num_epochs)):\n",
        "  model.train()\n",
        "  for i, (x, labels) in enumerate(train_loader):\n",
        "\n",
        "    input = x.to(device).view(-1, 28*28).to(torch.float32)\n",
        "    # input = x.to(device).to(torch.float32) #ConVAE\n",
        "\n",
        "    # output, z, ave, log_dev = model(input)\n",
        "    output, z = model(input) #AE\n",
        "\n",
        "    # loss, _, _ = criterion(output, input, ave, log_dev) \n",
        "    loss = criterion_ae(output, input) \n",
        "     \n",
        "    optimizer.zero_grad()\n",
        "    loss.backward()\n",
        "    optimizer.step()\n",
        "     \n",
        "    # print(ave.shape[0])\n",
        "    if input.shape[0]==BATCH_SIZE:\n",
        "        history[\"train_loss\"].append(loss)\n",
        "    \n",
        "    \n",
        "  # print(f'Epoch: {epoch+1}, train_loss: {loss: 0.4f}')\n",
        "\n",
        "  model.eval()\n",
        "  with torch.no_grad():\n",
        "    for i, (x, labels) in enumerate(val_loader):\n",
        "      input = x.to(device).view(-1, 28*28).to(torch.float32)\n",
        "      # input = x.to(device).to(torch.float32) #ConVAE\n",
        "\n",
        "      # output, z, ave, log_dev = model(input)\n",
        "      output, z = model(input) #AE\n",
        "\n",
        "      # print(f\"{input.shape=}\\t{output.shape=}\")[200(BATCH_SIZE), 28*28(img_size)]\n",
        "      # print(f\"{input[0].shape=}\\t{output[0].shape=}\")[28*28(img_size)]\n",
        "\n",
        "      # loss ,recon_loss , kl_loss = criterion(output, input, ave, log_dev)\n",
        "      loss = criterion_ae(output, input) \n",
        "\n",
        "      if input.shape[0]==BATCH_SIZE:\n",
        "        history[\"val_input\"].append(input[0])\n",
        "        history[\"val_output\"].append(output[0])\n",
        "        # history[\"val_ave\"].append(ave)\n",
        "        # history[\"val_log_dev\"].append(log_dev)\n",
        "        history[\"val_z\"].append(z)\n",
        "        history[\"val_labels\"].append(labels)\n",
        "        history[\"val_loss\"].append(loss)\n",
        "        # history[\"val_recon_loss\"].append(recon_loss)\n",
        "  # print(f'Epoch: {epoch+1}, val_loss: {loss: 0.4f}')\n",
        "\n",
        "  model.eval()\n",
        "  with torch.no_grad():\n",
        "    for i, (x, labels) in enumerate(anomaly_loader):\n",
        "      input = x.to(device).view(-1, 28*28).to(torch.float32)\n",
        "      # input = x.to(device).to(torch.float32) #ConVAE\n",
        "\n",
        "      # output, z, ave, log_dev = model(input)\n",
        "      output, z = model(input) #AE\n",
        "\n",
        "      # loss ,recon_loss , kl_loss = criterion(output, input, ave, log_dev)\n",
        "      loss = criterion_ae(output, input) \n",
        "\n",
        "      if input.shape[0]==BATCH_SIZE:\n",
        "        history[\"anom_input\"].append(input[0])\n",
        "        history[\"anom_output\"].append(output[0])\n",
        "        # history[\"anom_ave\"].append(ave)\n",
        "        # history[\"anom_log_dev\"].append(log_dev)\n",
        "        history[\"anom_z\"].append(z)\n",
        "        history[\"anom_labels\"].append(labels)\n",
        "        history[\"anom_loss\"].append(loss)\n",
        "        # history[\"anom_recon_loss\"].append(recon_loss)\n",
        "  # print(f'Epoch: {epoch+1}, anom_loss: {loss: 0.4f}')   \n",
        "  # print(\"\\n\")\n",
        "  \n",
        "  scheduler.step()"
      ]
    },
    {
      "cell_type": "code",
      "execution_count": 15,
      "metadata": {
        "colab": {
          "base_uri": "https://localhost:8080/",
          "height": 282
        },
        "id": "rRplzyTi5PPA",
        "outputId": "aa258c48-e152-404d-ab81-6e8fd8b3ce8f"
      },
      "outputs": [
        {
          "output_type": "execute_result",
          "data": {
            "text/plain": [
              "[<matplotlib.lines.Line2D at 0x7f76ce8176d0>]"
            ]
          },
          "metadata": {},
          "execution_count": 15
        },
        {
          "output_type": "display_data",
          "data": {
            "text/plain": [
              "<Figure size 432x288 with 1 Axes>"
            ],
            "image/png": "[encoded data removed]"
          },
          "metadata": {
            "needs_background": "light"
          }
        }
      ],
      "source": [
        "train_loss_tensor = torch.stack(history[\"train_loss\"])\n",
        "train_loss_np = train_loss_tensor.to('cpu').detach().numpy().copy()\n",
        "plt.plot(train_loss_np)"
      ]
    },
    {
      "cell_type": "code",
      "execution_count": 16,
      "metadata": {
        "colab": {
          "base_uri": "https://localhost:8080/",
          "height": 282
        },
        "id": "e_XtGvefD213",
        "outputId": "5daaca61-948d-44d9-d7a9-2d7ebd7a6ad4"
      },
      "outputs": [
        {
          "output_type": "execute_result",
          "data": {
            "text/plain": [
              "[<matplotlib.lines.Line2D at 0x7f76ce802790>]"
            ]
          },
          "metadata": {},
          "execution_count": 16
        },
        {
          "output_type": "display_data",
          "data": {
            "text/plain": [
              "<Figure size 432x288 with 1 Axes>"
            ],
            "image/png": "[encoded data removed]"
          },
          "metadata": {
            "needs_background": "light"
          }
        }
      ],
      "source": [
        "val_loss_tensor = torch.stack(history[\"val_loss\"])\n",
        "val_loss_np = val_loss_tensor.to('cpu').detach().numpy().copy()\n",
        "plt.plot(val_loss_np)"
      ]
    },
    {
      "cell_type": "code",
      "source": [
        "val_loss_tensor = torch.stack(history[\"anom_loss\"])\n",
        "val_loss_np = val_loss_tensor.to('cpu').detach().numpy().copy()\n",
        "plt.plot(val_loss_np)"
      ],
      "metadata": {
        "colab": {
          "base_uri": "https://localhost:8080/",
          "height": 282
        },
        "id": "Jp2XRepq9YDc",
        "outputId": "defb4660-1170-4c8e-e5d0-8ec858e4559d"
      },
      "execution_count": 17,
      "outputs": [
        {
          "output_type": "execute_result",
          "data": {
            "text/plain": [
              "[<matplotlib.lines.Line2D at 0x7f76ce76d130>]"
            ]
          },
          "metadata": {},
          "execution_count": 17
        },
        {
          "output_type": "display_data",
          "data": {
            "text/plain": [
              "<Figure size 432x288 with 1 Axes>"
            ],
            "image/png": "[encoded data removed]"
          },
          "metadata": {
            "needs_background": "light"
          }
        }
      ]
    },
    {
      "cell_type": "code",
      "source": [
        "# alpha =3.0\n",
        "# cnt =0\n",
        "\n",
        "# tensor_ave = history[\"val_ave\"][-1]\n",
        "# tensor_log_dev = history[\"val_log_dev\"][-1] #log(sigma^2)\n",
        "# tensor_recon_loss = history[\"val_recon_loss\"][-1]\n",
        "\n",
        "# np_ave = tensor_ave.to('cpu').detach().numpy().copy()\n",
        "# np_log_dev = tensor_log_dev.to('cpu').detach().numpy().copy()\n",
        "# np_recon_loss = tensor_recon_loss.to('cpu').detach().numpy().copy()\n",
        "\n",
        "# ave = np_ave\n",
        "# sigma = np.exp(np_log_dev)/2\n",
        "# recon_loss = np_recon_loss\n",
        "\n",
        "# threshold = ave + alpha*sigma\n",
        "\n",
        "# if recon_loss >= threshold.all():\n",
        "#   cnt +=1\n",
        "#   print(\"this is anomaly img\")\n",
        "# else: \n",
        "#   print(\"this is not anomaly img\")\n",
        "# print(f\"anomaly_rate:{cnt/len(history[\"val_ave\"])}\")"
      ],
      "metadata": {
        "id": "N0aI6JZ6IG_9"
      },
      "execution_count": 18,
      "outputs": []
    },
    {
      "cell_type": "code",
      "source": [
        "input = history[\"val_input\"][-1]\n",
        "\n",
        "np_input = input.to('cpu').detach().numpy().copy()\n",
        "np_image = np.reshape(np_input, (28, 28))\n",
        "plt.imshow(np_image, cmap='gray')\n"
      ],
      "metadata": {
        "colab": {
          "base_uri": "https://localhost:8080/",
          "height": 282
        },
        "id": "HAv0dfHRHuV4",
        "outputId": "71dffc27-5468-41f3-c237-c5dab910863e"
      },
      "execution_count": 19,
      "outputs": [
        {
          "output_type": "execute_result",
          "data": {
            "text/plain": [
              "<matplotlib.image.AxesImage at 0x7f76ce741760>"
            ]
          },
          "metadata": {},
          "execution_count": 19
        },
        {
          "output_type": "display_data",
          "data": {
            "text/plain": [
              "<Figure size 432x288 with 1 Axes>"
            ],
            "image/png": "[encoded data removed]"
          },
          "metadata": {
            "needs_background": "light"
          }
        }
      ]
    },
    {
      "cell_type": "code",
      "source": [
        "\n",
        "output = history[\"val_output\"][-1]\n",
        "\n",
        "np_output = output.to('cpu').detach().numpy().copy()\n",
        "np_image = np.reshape(np_output, (28, 28))\n",
        "plt.imshow(np_image, cmap='gray')"
      ],
      "metadata": {
        "colab": {
          "base_uri": "https://localhost:8080/",
          "height": 282
        },
        "id": "K1uhgctjGJ7b",
        "outputId": "bc1c3c8d-9689-43ce-ecd9-10eb4d73f240"
      },
      "execution_count": 20,
      "outputs": [
        {
          "output_type": "execute_result",
          "data": {
            "text/plain": [
              "<matplotlib.image.AxesImage at 0x7f76ce6a7a30>"
            ]
          },
          "metadata": {},
          "execution_count": 20
        },
        {
          "output_type": "display_data",
          "data": {
            "text/plain": [
              "<Figure size 432x288 with 1 Axes>"
            ],
            "image/png": "[encoded data removed]"
          },
          "metadata": {
            "needs_background": "light"
          }
        }
      ]
    },
    {
      "cell_type": "code",
      "source": [
        "np_diff = np_input - np_output\n",
        "np_image = np.reshape(np_diff, (28, 28))\n",
        "plt.imshow(np_image, cmap='gray')"
      ],
      "metadata": {
        "colab": {
          "base_uri": "https://localhost:8080/",
          "height": 282
        },
        "id": "Zmz4iwuzHwTj",
        "outputId": "e2c9c0d5-10b6-4350-b425-6e0a92b03545"
      },
      "execution_count": 21,
      "outputs": [
        {
          "output_type": "execute_result",
          "data": {
            "text/plain": [
              "<matplotlib.image.AxesImage at 0x7f76ce686a60>"
            ]
          },
          "metadata": {},
          "execution_count": 21
        },
        {
          "output_type": "display_data",
          "data": {
            "text/plain": [
              "<Figure size 432x288 with 1 Axes>"
            ],
            "image/png": "[encoded data removed]"
          },
          "metadata": {
            "needs_background": "light"
          }
        }
      ]
    },
    {
      "cell_type": "code",
      "source": [],
      "metadata": {
        "id": "-9ZuzEFURRfm"
      },
      "execution_count": 21,
      "outputs": []
    },
    {
      "cell_type": "code",
      "source": [
        "# alpha =3.0\n",
        "# cnt =0\n",
        "\n",
        "# tensor_ave = history[\"anom_ave\"][-1]\n",
        "# tensor_log_dev = history[\"anom_log_dev\"][-1] #log(sigma^2)\n",
        "# tensor_recon_loss = history[\"anom_recon_loss\"][-1]\n",
        "\n",
        "# np_ave = tensor_ave.to('cpu').detach().numpy().copy()\n",
        "# np_log_dev = tensor_log_dev.to('cpu').detach().numpy().copy()\n",
        "# np_recon_loss = tensor_recon_loss.to('cpu').detach().numpy().copy()\n",
        "\n",
        "# ave = np_ave\n",
        "# sigma = np.exp(np_log_dev)/2\n",
        "# recon_loss = np_recon_loss\n",
        "\n",
        "# threshold = ave + alpha*sigma\n",
        "\n",
        "# if recon_loss >= threshold.all():\n",
        "#   cnt +=1\n",
        "#   print(\"this is anomaly img\")\n",
        "# else: \n",
        "#   print(\"this is not anomaly img\")\n",
        "# print(f\"anomaly_rate:{cnt/len(history[\"val_ave\"])}\")"
      ],
      "metadata": {
        "id": "CTK2Lg0KRPpk"
      },
      "execution_count": 22,
      "outputs": []
    },
    {
      "cell_type": "code",
      "source": [
        "input = history[\"anom_input\"][-1]\n",
        "\n",
        "np_input = input.to('cpu').detach().numpy().copy()\n",
        "np_image = np.reshape(np_input, (28, 28))\n",
        "plt.imshow(np_image, cmap='gray')"
      ],
      "metadata": {
        "colab": {
          "base_uri": "https://localhost:8080/",
          "height": 282
        },
        "id": "ZXCH-CzIRSJo",
        "outputId": "7bd102fc-14d4-47f9-d3dc-c9cf10ce6dfa"
      },
      "execution_count": 23,
      "outputs": [
        {
          "output_type": "execute_result",
          "data": {
            "text/plain": [
              "<matplotlib.image.AxesImage at 0x7f76ce5f0880>"
            ]
          },
          "metadata": {},
          "execution_count": 23
        },
        {
          "output_type": "display_data",
          "data": {
            "text/plain": [
              "<Figure size 432x288 with 1 Axes>"
            ],
            "image/png": "[encoded data removed]"
          },
          "metadata": {
            "needs_background": "light"
          }
        }
      ]
    },
    {
      "cell_type": "code",
      "source": [
        "output = history[\"anom_output\"][-1]\n",
        "\n",
        "np_output = output.to('cpu').detach().numpy().copy()\n",
        "np_image = np.reshape(np_output, (28, 28))\n",
        "plt.imshow(np_image, cmap='gray')"
      ],
      "metadata": {
        "colab": {
          "base_uri": "https://localhost:8080/",
          "height": 282
        },
        "id": "0uNOcyvdRSTN",
        "outputId": "a040fca0-5407-46d2-c6e6-5fdf33404aa7"
      },
      "execution_count": 24,
      "outputs": [
        {
          "output_type": "execute_result",
          "data": {
            "text/plain": [
              "<matplotlib.image.AxesImage at 0x7f76ce252520>"
            ]
          },
          "metadata": {},
          "execution_count": 24
        },
        {
          "output_type": "display_data",
          "data": {
            "text/plain": [
              "<Figure size 432x288 with 1 Axes>"
            ],
            "image/png": "[encoded data removed]"
          },
          "metadata": {
            "needs_background": "light"
          }
        }
      ]
    },
    {
      "cell_type": "code",
      "source": [
        "np_diff = np_input - np_output\n",
        "np_image = np.reshape(np_diff, (28, 28))\n",
        "plt.imshow(np_image, cmap='gray')"
      ],
      "metadata": {
        "colab": {
          "base_uri": "https://localhost:8080/",
          "height": 282
        },
        "id": "x4ut_U_PRScn",
        "outputId": "f1617ff9-0fe9-4a4b-a185-e898403a2181"
      },
      "execution_count": 25,
      "outputs": [
        {
          "output_type": "execute_result",
          "data": {
            "text/plain": [
              "<matplotlib.image.AxesImage at 0x7f76ce22c0d0>"
            ]
          },
          "metadata": {},
          "execution_count": 25
        },
        {
          "output_type": "display_data",
          "data": {
            "text/plain": [
              "<Figure size 432x288 with 1 Axes>"
            ],
            "image/png": "[encoded data removed]"
          },
          "metadata": {
            "needs_background": "light"
          }
        }
      ]
    },
    {
      "cell_type": "code",
      "source": [],
      "metadata": {
        "id": "YTSimhSpRSwA"
      },
      "execution_count": 25,
      "outputs": []
    },
    {
      "cell_type": "code",
      "execution_count": 26,
      "metadata": {
        "colab": {
          "base_uri": "https://localhost:8080/",
          "height": 240
        },
        "id": "l7biDJCN5PMU",
        "outputId": "3e495f8d-b91e-4c60-ae9d-533fc10f115e"
      },
      "outputs": [
        {
          "output_type": "error",
          "ename": "RuntimeError",
          "evalue": "ignored",
          "traceback": [
            "\u001b[0;31m---------------------------------------------------------------------------\u001b[0m",
            "\u001b[0;31mRuntimeError\u001b[0m                              Traceback (most recent call last)",
            "\u001b[0;32m<ipython-input-26-145d315c9dd6>\u001b[0m in \u001b[0;36m<module>\u001b[0;34m\u001b[0m\n\u001b[1;32m      1\u001b[0m \u001b[0;31m#(解決済) BATCH のデカさが最後ばらつくためエラー出る\u001b[0m\u001b[0;34m\u001b[0m\u001b[0;34m\u001b[0m\u001b[0;34m\u001b[0m\u001b[0m\n\u001b[0;32m----> 2\u001b[0;31m \u001b[0mave_tensor\u001b[0m \u001b[0;34m=\u001b[0m \u001b[0mtorch\u001b[0m\u001b[0;34m.\u001b[0m\u001b[0mstack\u001b[0m\u001b[0;34m(\u001b[0m\u001b[0mhistory\u001b[0m\u001b[0;34m[\u001b[0m\u001b[0;34m\"val_ave\"\u001b[0m\u001b[0;34m]\u001b[0m\u001b[0;34m)\u001b[0m\u001b[0;34m\u001b[0m\u001b[0;34m\u001b[0m\u001b[0m\n\u001b[0m\u001b[1;32m      3\u001b[0m \u001b[0mlog_var_tensor\u001b[0m \u001b[0;34m=\u001b[0m \u001b[0mtorch\u001b[0m\u001b[0;34m.\u001b[0m\u001b[0mstack\u001b[0m\u001b[0;34m(\u001b[0m\u001b[0mhistory\u001b[0m\u001b[0;34m[\u001b[0m\u001b[0;34m\"val_log_dev\"\u001b[0m\u001b[0;34m]\u001b[0m\u001b[0;34m)\u001b[0m\u001b[0;34m\u001b[0m\u001b[0;34m\u001b[0m\u001b[0m\n\u001b[1;32m      4\u001b[0m \u001b[0mz_tensor\u001b[0m \u001b[0;34m=\u001b[0m \u001b[0mtorch\u001b[0m\u001b[0;34m.\u001b[0m\u001b[0mstack\u001b[0m\u001b[0;34m(\u001b[0m\u001b[0mhistory\u001b[0m\u001b[0;34m[\u001b[0m\u001b[0;34m\"val_z\"\u001b[0m\u001b[0;34m]\u001b[0m\u001b[0;34m)\u001b[0m\u001b[0;34m\u001b[0m\u001b[0;34m\u001b[0m\u001b[0m\n\u001b[1;32m      5\u001b[0m \u001b[0mlabels_tensor\u001b[0m \u001b[0;34m=\u001b[0m \u001b[0mtorch\u001b[0m\u001b[0;34m.\u001b[0m\u001b[0mstack\u001b[0m\u001b[0;34m(\u001b[0m\u001b[0mhistory\u001b[0m\u001b[0;34m[\u001b[0m\u001b[0;34m\"val_labels\"\u001b[0m\u001b[0;34m]\u001b[0m\u001b[0;34m)\u001b[0m\u001b[0;34m\u001b[0m\u001b[0;34m\u001b[0m\u001b[0m\n",
            "\u001b[0;31mRuntimeError\u001b[0m: stack expects a non-empty TensorList"
          ]
        }
      ],
      "source": [
        "#(解決済) BATCH のデカさが最後ばらつくためエラー出る\n",
        "ave_tensor = torch.stack(history[\"val_ave\"]) \n",
        "log_var_tensor = torch.stack(history[\"val_log_dev\"])\n",
        "z_tensor = torch.stack(history[\"val_z\"])\n",
        "labels_tensor = torch.stack(history[\"val_labels\"])\n",
        "print(ave_tensor.size())\n",
        "print(log_var_tensor.size())\n",
        "print(z_tensor.size())\n",
        "print(labels_tensor.size())\n",
        "\n",
        "ave_np = ave_tensor.to('cpu').detach().numpy().copy()\n",
        "log_var_np = log_var_tensor.to('cpu').detach().numpy().copy()\n",
        "z_np = z_tensor.to('cpu').detach().numpy().copy()\n",
        "labels_np = labels_tensor.to('cpu').detach().numpy().copy()\n",
        "print(ave_np.shape)\n",
        "print(log_var_np.shape)\n",
        "print(z_np.shape)\n",
        "print(labels_np.shape)"
      ]
    },
    {
      "cell_type": "code",
      "execution_count": null,
      "metadata": {
        "id": "ieYV2y1w5NQG"
      },
      "outputs": [],
      "source": [
        "# batch_num =10\n",
        "\n",
        "# plt.figure(figsize=[10,10])\n",
        "# for label in range(10):\n",
        "#   x = z_np[:batch_num,:,0][labels_np[:batch_num,:] == label]\n",
        "#   y = z_np[:batch_num,:,1][labels_np[:batch_num,:] == label]\n",
        "#   plt.scatter(x, y, color=cmap(label/9), label=label, s=15)\n",
        "#   plt.annotate(label, xy=(np.mean(x),np.mean(y)),size=20,color=\"black\")\n",
        "# plt.legend(loc=\"upper left\")\n"
      ]
    },
    {
      "cell_type": "code",
      "execution_count": null,
      "metadata": {
        "id": "CYUCN47H5NNT"
      },
      "outputs": [],
      "source": [
        "# batch_num = 30\n",
        "\n",
        "# plt.figure(figsize=[10,10])\n",
        "\n",
        "# for label in range(10):\n",
        "#   x = z_np[batch_num:,:,0][labels_np[batch_num:,:] == label]\n",
        "#   y = z_np[batch_num:,:,1][labels_np[batch_num:,:] == label]\n",
        "#   plt.scatter(x, y, color=cmap(label/9), label=label, s=15)\n",
        "#   plt.annotate(label, xy=(np.mean(x),np.mean(y)),size=20,color=\"black\")\n",
        "# plt.legend(loc=\"upper left\")"
      ]
    },
    {
      "cell_type": "code",
      "execution_count": null,
      "metadata": {
        "id": "JWffxUS1AXi-"
      },
      "outputs": [],
      "source": []
    },
    {
      "cell_type": "code",
      "execution_count": null,
      "metadata": {
        "id": "pTOhvhbpAXgF"
      },
      "outputs": [],
      "source": [
        "batch_num = 30\n",
        "label = 0\n",
        "x_zero_mean = np.mean(ave_np[batch_num:,:,0][labels_np[batch_num:,:] == label])\n",
        "y_zero_mean = np.mean(ave_np[batch_num:,:,1][labels_np[batch_num:,:] == label])\n",
        "\n",
        "# label = 1\n",
        "# x_one_mean = np.mean(ave_np[batch_num:,:,0][labels_np[batch_num:,:] == label])\n",
        "# y_one_mean = np.mean(ave_np[batch_num:,:,1][labels_np[batch_num:,:] == label])\n",
        "\n",
        "z_zero = torch.tensor([x_zero_mean,y_zero_mean], dtype = torch.float32)\n",
        "# z_one = torch.tensor([x_one_mean,y_one_mean], dtype = torch.float32)"
      ]
    },
    {
      "cell_type": "code",
      "execution_count": null,
      "metadata": {
        "id": "597OI8OEA3bJ"
      },
      "outputs": [],
      "source": [
        "model.to(\"cpu\")\n",
        "output = model.decoder(z_zero)\n",
        "\n",
        "np_output = output.to('cpu').detach().numpy().copy()\n",
        "np_image = np.reshape(np_output, (28, 28))\n",
        "plt.imshow(np_image, cmap='gray')"
      ]
    },
    {
      "cell_type": "code",
      "execution_count": null,
      "metadata": {
        "id": "gpxjgFJYA3YM"
      },
      "outputs": [],
      "source": [
        "# output = model.decoder(z_one)\n",
        "# np_output = output.to('cpu').detach().numpy().copy()\n",
        "# np_image = np.reshape(np_output, (28, 28))\n",
        "# plt.imshow(np_image, cmap='gray')"
      ]
    },
    {
      "cell_type": "code",
      "execution_count": null,
      "metadata": {
        "id": "_0iNUvpnA3Vd"
      },
      "outputs": [],
      "source": [
        "# def plot(frame):\n",
        "#     plt.cla()                      # 現在描写されているグラフを消去\n",
        "#     z_zerotoone = ((99 - frame) * z_zero +  frame * z_one) / 99\n",
        "#     output = model.decoder(z_zerotoone)\n",
        "#     np_output = output.detach().numpy().copy()\n",
        "#     np_image = np.reshape(np_output, (28, 28))\n",
        "#     plt.imshow(np_image, cmap='gray')\n",
        "#     plt.xticks([]);plt.yticks([])\n",
        "#     plt.title(\"frame={}\".format(frame))\n",
        "\n",
        "\n",
        "# fig = plt.figure(figsize=(4,4))\n",
        "# ani = animation.FuncAnimation(fig, plot, frames=99, interval=100)\n",
        "# rc('animation', html='jshtml')\n",
        "# #ani.save(\"./vae_zerotone.gif\", writer=\"imagemagick\")\n",
        "# ani"
      ]
    },
    {
      "cell_type": "code",
      "execution_count": null,
      "metadata": {
        "id": "WYGLZA3vA3S4"
      },
      "outputs": [],
      "source": []
    },
    {
      "cell_type": "code",
      "source": [],
      "metadata": {
        "id": "cLrd2VXEkKzF"
      },
      "execution_count": null,
      "outputs": []
    },
    {
      "cell_type": "code",
      "source": [],
      "metadata": {
        "id": "5H0S8u5ykKwF"
      },
      "execution_count": null,
      "outputs": []
    },
    {
      "cell_type": "code",
      "execution_count": null,
      "metadata": {
        "id": "cHqQZDt8nsT1"
      },
      "outputs": [],
      "source": [
        "###########全結合型NNベースのVAE (FashionMNIST)###################\n",
        "class Encoder(nn.Module):\n",
        "  def __init__(self, z_dim):\n",
        "    super().__init__()\n",
        "    self.lr = nn.Linear(28*28, 300)\n",
        "    self.lr2 = nn.Linear(300, 100)\n",
        "    self.lr_ave = nn.Linear(100, z_dim) #mean\n",
        "    self.lr_dev = nn.Linear(100, z_dim) #log(sigma^2)\n",
        "    self.relu = nn.ReLU()\n",
        "  \n",
        "  def forward(self, x):\n",
        "    x = self.lr(x)\n",
        "    x = self.relu(x)\n",
        "    x = self.lr2(x)\n",
        "    x = self.relu(x)\n",
        "    ave = self.lr_ave(x) #mean\n",
        "    log_dev = self.lr_dev(x) #log(sigma^2)\n",
        "\n",
        "    ep = torch.randn_like(ave)\n",
        "    z = ave + torch.exp(log_dev / 2) * ep\n",
        "    return z, ave, log_dev\n",
        "\n",
        "class Decoder(nn.Module):\n",
        "  def __init__(self, z_dim):\n",
        "    super().__init__()\n",
        "    self.lr = nn.Linear(z_dim, 100)\n",
        "    self.lr2 = nn.Linear(100, 300)\n",
        "    self.lr3 = nn.Linear(300, 28*28)\n",
        "    self.relu = nn.ReLU()\n",
        "  \n",
        "  def forward(self, z):\n",
        "    x = self.lr(z)\n",
        "    x = self.relu(x)\n",
        "    x = self.lr2(x)\n",
        "    x = self.relu(x)\n",
        "    x = self.lr3(x)\n",
        "    x = torch.sigmoid(x)\n",
        "    return x\n",
        "\n",
        "class VAE(nn.Module):\n",
        "  def __init__(self, z_dim):\n",
        "    super().__init__()\n",
        "    self.encoder = Encoder(z_dim)\n",
        "    self.decoder = Decoder(z_dim)\n",
        "  \n",
        "  def forward(self, x):\n",
        "    z, ave, log_dev = self.encoder(x)\n",
        "    x = self.decoder(z)\n",
        "    return x, z, ave, log_dev\n",
        "\n",
        "def criterion(predict, target, ave, log_dev):\n",
        "  recon_loss = F.binary_cross_entropy(predict, target, reduction='sum')\n",
        "  kl_loss = -0.5 * torch.sum(1 + log_dev - ave**2 - log_dev.exp())\n",
        "  loss = recon_loss + kl_loss\n",
        "  return loss"
      ]
    },
    {
      "cell_type": "code",
      "execution_count": null,
      "metadata": {
        "id": "9QUcQvURnsT-"
      },
      "outputs": [],
      "source": [
        "###########畳み込み型NNベースのVAE (FashionMNIST)###################\n",
        "class Encoder(nn.Module):\n",
        "  def __init__(self, z_dim, drop_rate = 0.1):\n",
        "    super().__init__()\n",
        "    self.conv1 = nn.Conv2d(1, 32, kernel_size=2, padding=\"same\")\n",
        "    self.conv2 = nn.Conv2d(32, 32, kernel_size=2, padding=\"same\")\n",
        "    self.conv3 = nn.Conv2d(32, 32, kernel_size=2, padding=\"same\")\n",
        "    self.lr1 = nn.Linear(32*3*3, 100)\n",
        "    self.lr_ave = nn.Linear(100, z_dim) #mean\n",
        "    self.lr_dev = nn.Linear(100, z_dim) #log(sigma^2)\n",
        "    self.bn = nn.BatchNorm2d(32)\n",
        "    self.relu = nn.ReLU()\n",
        "    self.maxpool_2D = nn.AvgPool2d(2, stride = 2)\n",
        "    self.dropout = nn.Dropout(p=drop_rate)\n",
        "  \n",
        "  def forward(self, x):\n",
        "    x = self.conv1(x)\n",
        "    x = self.bn(x)\n",
        "    x = self.relu(x)\n",
        "    x = self.maxpool_2D(x)\n",
        "    x = self.conv2(x)\n",
        "    x = self.bn(x)\n",
        "    x = self.relu(x)\n",
        "    x = self.maxpool_2D(x)\n",
        "    x = self.conv3(x)\n",
        "    x = self.bn(x)\n",
        "    x = self.relu(x)\n",
        "    x = self.maxpool_2D(x)\n",
        "\n",
        "    x = x.view(-1, 32*3*3)\n",
        "    x = self.lr1(x)\n",
        "    x = self.relu(x)\n",
        "    ave = self.lr_ave(x) #mean\n",
        "    log_dev = self.lr_dev(x) #log(sigma^2)\n",
        "\n",
        "    ep = torch.randn_like(ave)\n",
        "    z = ave + torch.exp(log_dev / 2) * ep\n",
        "    return z, ave, log_dev\n",
        "\n",
        "class Decoder(nn.Module):\n",
        "  def __init__(self, z_dim, drop_rate = 0.1):\n",
        "    super().__init__()\n",
        "    self.lr1 = nn.Linear(z_dim, 8*3*3)\n",
        "    self.relu = nn.ReLU()\n",
        "    self.uc1 = nn.ConvTranspose2d(8, 32, kernel_size =2, stride = 2, output_padding = 1)\n",
        "    self.uc2 = nn.ConvTranspose2d(32, 32, kernel_size =2, stride = 2)\n",
        "    self.conv1 = nn.Conv2d(32, 32, kernel_size=3, padding=\"same\")\n",
        "    self.bn = nn.BatchNorm2d(32)\n",
        "    self.conv2 = nn.Conv2d(32, 1, kernel_size = 1)\n",
        "    self.dropout = nn.Dropout(p=drop_rate)\n",
        "  \n",
        "  def forward(self, x):\n",
        "    x = self.lr1(x)\n",
        "    x = self.relu(x)\n",
        "    x = x.view(-1, 8, 3, 3)\n",
        "    x = self.uc1(x)\n",
        "    x = self.conv1(x)\n",
        "    x = self.bn(x)\n",
        "    x = self.relu(x)\n",
        "    x = self.uc2(x)\n",
        "    x = self.conv1(x)\n",
        "    x = self.bn(x)\n",
        "    x = self.relu(x)\n",
        "    x = self.uc2(x)\n",
        "    x = self.conv1(x)\n",
        "    x = self.bn(x)\n",
        "    x = self.relu(x)\n",
        "    x = self.conv2(x)\n",
        "    x = torch.sigmoid(x)    \n",
        "    return x\n",
        "\n",
        "class VAE(nn.Module):\n",
        "  def __init__(self, z_dim):\n",
        "    super().__init__()\n",
        "    self.encoder = Encoder(z_dim)\n",
        "    self.decoder = Decoder(z_dim)\n",
        "  \n",
        "  def forward(self, x):\n",
        "    z, ave, log_dev = self.encoder(x)\n",
        "    x = self.decoder(z)\n",
        "    return x, z, ave, log_dev"
      ]
    }
  ],
  "metadata": {
    "accelerator": "GPU",
    "colab": {
      "provenance": [],
      "machine_shape": "hm"
    },
    "gpuClass": "standard",
    "kernelspec": {
      "display_name": "Python 3",
      "name": "python3"
    },
    "language_info": {
      "name": "python"
    }
  },
  "nbformat": 4,
  "nbformat_minor": 0
}
